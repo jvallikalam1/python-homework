{
 "cells": [
  {
   "cell_type": "code",
   "execution_count": 1,
   "metadata": {},
   "outputs": [],
   "source": [
    "import pandas as pd\n",
    "from pathlib import Path\n",
    "import numpy as np "
   ]
  },
  {
   "cell_type": "code",
   "execution_count": 3,
   "metadata": {},
   "outputs": [],
   "source": [
    "file_path=pd.read_csv('/Users/joevallikalam/Desktop/nu-chi-fin-pt-01-2021-u-c/02-Python/HW-02-Python/Instructions/PyBank/Resources/budget_data.csv')\n",
    "df=pd.DataFrame(file_path)"
   ]
  },
  {
   "cell_type": "code",
   "execution_count": 4,
   "metadata": {},
   "outputs": [],
   "source": [
    "months=df['Date'].count()"
   ]
  },
  {
   "cell_type": "code",
   "execution_count": 9,
   "metadata": {},
   "outputs": [],
   "source": [
    "netPL=df['Profit/Losses'].sum()"
   ]
  },
  {
   "cell_type": "code",
   "execution_count": 10,
   "metadata": {},
   "outputs": [],
   "source": [
    "average_change=df['Profit/Losses'].diff().mean()"
   ]
  },
  {
   "cell_type": "code",
   "execution_count": 11,
   "metadata": {},
   "outputs": [],
   "source": [
    "greatest_inc=df['Profit/Losses'].diff().max()"
   ]
  },
  {
   "cell_type": "code",
   "execution_count": 12,
   "metadata": {},
   "outputs": [],
   "source": [
    "greatest_dec=df['Profit/Losses'].diff().min()"
   ]
  },
  {
   "cell_type": "code",
   "execution_count": 16,
   "metadata": {},
   "outputs": [
    {
     "name": "stdout",
     "output_type": "stream",
     "text": [
      "Total months: 86\n",
      "Total net profit/loss: $38382578\n",
      "Average change = $-2315.1176470588234\n",
      "Greatest increase in profit/loss: $1926159.0\n",
      "Greatest decrease in profit/loss: $-2196167.0\n"
     ]
    }
   ],
   "source": [
    "## Financial Analysis\n",
    "print(f\"Total months: {months}\")\n",
    "print(f\"Total net profit/loss: ${netPL}\")\n",
    "print(f\"Average change = ${average_change}\")\n",
    "print(f\"Greatest increase in profit/loss: ${greatest_inc}\")\n",
    "print(f\"Greatest decrease in profit/loss: ${greatest_dec}\")"
   ]
  },
  {
   "cell_type": "code",
   "execution_count": 17,
   "metadata": {},
   "outputs": [],
   "source": [
    "file = open('file.txt', 'a')\n",
    "file.write(f'Total months: {months}')\n",
    "file.write(f'Total net profit/loss: ${netPL}')\n",
    "file.write(f'Average change = ${average_change}')\n",
    "file.write(f'Greatest increase in profit/loss: ${greatest_inc}')\n",
    "file.write(f'Greatest decrease in profit/loss: ${greatest_dec}')\n",
    "file.close()"
   ]
  },
  {
   "cell_type": "code",
   "execution_count": null,
   "metadata": {},
   "outputs": [],
   "source": []
  }
 ],
 "metadata": {
  "kernelspec": {
   "display_name": "Python 3",
   "language": "python",
   "name": "python3"
  },
  "language_info": {
   "codemirror_mode": {
    "name": "ipython",
    "version": 3
   },
   "file_extension": ".py",
   "mimetype": "text/x-python",
   "name": "python",
   "nbconvert_exporter": "python",
   "pygments_lexer": "ipython3",
   "version": "3.7.9"
  }
 },
 "nbformat": 4,
 "nbformat_minor": 4
}
